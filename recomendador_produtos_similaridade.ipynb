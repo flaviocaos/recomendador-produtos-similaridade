{
 "cells": [
  {
   "cell_type": "markdown",
   "id": "2a18681c",
   "metadata": {},
   "source": [
    "# 🔍 Sistema de Recomendação de Produtos por Similaridade de Conteúdo\n",
    "Este notebook demonstra como aplicar TF-IDF e similaridade do cosseno para recomendar produtos com base em descrições textuais."
   ]
  },
  {
   "cell_type": "code",
   "execution_count": null,
   "id": "33f177ba",
   "metadata": {},
   "outputs": [],
   "source": [
    "import pandas as pd\n",
    "from sklearn.feature_extraction.text import TfidfVectorizer\n",
    "from sklearn.metrics.pairwise import cosine_similarity"
   ]
  },
  {
   "cell_type": "code",
   "execution_count": null,
   "id": "aba93a66",
   "metadata": {},
   "outputs": [],
   "source": [
    "# Simular base de produtos\n",
    "produtos = pd.DataFrame({\n",
    "    'produto_id': range(1, 11),\n",
    "    'nome': [\n",
    "        'Notebook Gamer', 'Smartphone 5G', 'Tênis Esportivo', 'Relógio Digital',\n",
    "        'Fone Bluetooth', 'Câmera Fotográfica', 'Smart TV 50\"', 'Tablet 10\"',\n",
    "        'Mouse Ergonômico', 'Teclado Mecânico'\n",
    "    ],\n",
    "    'descricao': [\n",
    "        'Notebook com placa de vídeo dedicada e SSD rápido',\n",
    "        'Smartphone com tecnologia 5G, ótima câmera e bateria duradoura',\n",
    "        'Tênis leve e confortável para corrida ou academia',\n",
    "        'Relógio com cronômetro, bluetooth e bateria longa',\n",
    "        'Fone sem fio com cancelamento de ruído e microfone',\n",
    "        'Câmera com lente intercambiável e zoom óptico poderoso',\n",
    "        'Smart TV com resolução 4K, HDR e sistema Android',\n",
    "        'Tablet com boa autonomia, ideal para leitura e vídeos',\n",
    "        'Mouse ergonômico com vários botões programáveis',\n",
    "        'Teclado mecânico com iluminação RGB e switches azuis'\n",
    "    ]\n",
    "})"
   ]
  },
  {
   "cell_type": "code",
   "execution_count": null,
   "id": "105fcbdd",
   "metadata": {},
   "outputs": [],
   "source": [
    "# Vetorização TF-IDF\n",
    "vectorizer = TfidfVectorizer()\n",
    "tfidf_matrix = vectorizer.fit_transform(produtos['descricao'])\n",
    "similaridade = cosine_similarity(tfidf_matrix)"
   ]
  },
  {
   "cell_type": "code",
   "execution_count": null,
   "id": "cafbcc7e",
   "metadata": {},
   "outputs": [],
   "source": [
    "# Função de recomendação\n",
    "def recomendar_produtos(produto_id, top_n=3):\n",
    "    idx = produtos[produtos['produto_id'] == produto_id].index[0]\n",
    "    scores = list(enumerate(similaridade[idx]))\n",
    "    scores = sorted(scores, key=lambda x: x[1], reverse=True)[1:top_n+1]\n",
    "    recomendacoes = produtos.iloc[[i[0] for i in scores]]\n",
    "    return recomendacoes[['produto_id', 'nome']]"
   ]
  },
  {
   "cell_type": "code",
   "execution_count": null,
   "id": "ad4e4dda",
   "metadata": {},
   "outputs": [],
   "source": [
    "# Exemplo de uso: recomendar produtos semelhantes ao produto 1\n",
    "recomendar_produtos(1)"
   ]
  }
 ],
 "metadata": {},
 "nbformat": 4,
 "nbformat_minor": 5
}
