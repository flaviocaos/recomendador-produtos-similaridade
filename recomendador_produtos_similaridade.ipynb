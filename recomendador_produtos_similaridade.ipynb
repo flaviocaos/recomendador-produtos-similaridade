{
 "cells": [
  {
   "cell_type": "markdown",
   "id": "cf0308f4",
   "metadata": {},
   "source": [
    "# Sistema de Recomendação de Produtos com Similaridade de Conteúdo"
   ]
  },
  {
   "cell_type": "code",
   "execution_count": null,
   "id": "365f4580",
   "metadata": {},
   "outputs": [],
   "source": [
    "import pandas as pd\n",
    "from sklearn.feature_extraction.text import TfidfVectorizer\n",
    "from sklearn.metrics.pairwise import cosine_similarity"
   ]
  },
  {
   "cell_type": "code",
   "execution_count": null,
   "id": "6f4e5270",
   "metadata": {},
   "outputs": [],
   "source": [
    "produtos = pd.DataFrame({'produto_id': {0: 1, 1: 2, 2: 3, 3: 4, 4: 5, 5: 6, 6: 7, 7: 8, 8: 9, 9: 10}, 'nome': {0: 'Notebook Gamer', 1: 'Smartphone 5G', 2: 'Tênis Esportivo', 3: 'Relógio Digital', 4: 'Fone Bluetooth', 5: 'Câmera Fotográfica', 6: 'Smart TV 50\"', 7: 'Tablet 10\"', 8: 'Mouse Ergonômico', 9: 'Teclado Mecânico'}, 'descricao': {0: 'Notebook com placa de vídeo dedicada e SSD rápido', 1: 'Smartphone com tecnologia 5G, ótima câmera e bateria duradoura', 2: 'Tênis leve e confortável para corrida ou academia', 3: 'Relógio com cronômetro, bluetooth e bateria longa', 4: 'Fone sem fio com cancelamento de ruído e microfone', 5: 'Câmera com lente intercambiável e zoom óptico poderoso', 6: 'Smart TV com resolução 4K, HDR e sistema Android', 7: 'Tablet com boa autonomia, ideal para leitura e vídeos', 8: 'Mouse ergonômico com vários botões programáveis', 9: 'Teclado mecânico com iluminação RGB e switches azuis'}})"
   ]
  },
  {
   "cell_type": "code",
   "execution_count": null,
   "id": "8f0940d1",
   "metadata": {},
   "outputs": [],
   "source": [
    "\n",
    "vectorizer = TfidfVectorizer()\n",
    "tfidf_matrix = vectorizer.fit_transform(produtos['descricao'])\n",
    "similaridade = cosine_similarity(tfidf_matrix)\n",
    "\n",
    "def recomendar_produtos(produto_id, top_n=3):\n",
    "    idx = produtos[produtos['produto_id'] == produto_id].index[0]\n",
    "    scores = list(enumerate(similaridade[idx]))\n",
    "    scores = sorted(scores, key=lambda x: x[1], reverse=True)[1:top_n+1]\n",
    "    recomendacoes = produtos.iloc[[i[0] for i in scores]]\n",
    "    return recomendacoes[['produto_id', 'nome']]\n",
    "\n",
    "# Exemplo de uso\n",
    "recomendar_produtos(1)\n"
   ]
  }
 ],
 "metadata": {},
 "nbformat": 4,
 "nbformat_minor": 5
}
